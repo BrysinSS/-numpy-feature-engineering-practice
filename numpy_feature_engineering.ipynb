# NumPy Feature Engineering Practice

"""
Набор задач, направленных на закрепление NumPy-приёмов, связанных с логикой,
условиями, масками и подготовкой признаков для анализа данных.
"""

import numpy as np

# # Задача 1: Создание массивов вручную
# Создай массив из чисел от 1 до 10 включительно и выведи его в обратном порядке
arr = np.arange(1, 11)[::-1]
print(arr)

# # Задача 2: Маска чётных чисел
# Из массива от 0 до 20 выбери только чётные числа
x = np.arange(21)
even_mask = x % 2 == 0
print(x[even_mask])

# # Задача 3: np.where с арифметикой
# Если значение < 10, удвой его, иначе вычти 5
x = np.arange(1, 16)
result = np.where(x < 10, x * 2, x - 5)
print(result)

# # Задача 4: np.select с категоризацией
# Преобразуй значения массива в категории: <5, чётные, остальные
conditions = [x < 5, x % 2 == 0]
choices = ["low", "even"]
categories = np.select(conditions, choices, default="other")
print(categories)

# # Задача 5: Логическая фильтрация и арифметика
# Если x чётное и больше 5 — умножь на 3, иначе оставь как есть
x = np.arange(1, 16)
mask = (x % 2 == 0) & (x > 5)
result = np.where(mask, x * 3, x)
print(result)

# # Задача 6: Комбинированная логика и np.select
# 1. если x < 5 → x + 100
# 2. если x чётное → x * 2
# 3. иначе → x - 3
conditions = [x < 5, x % 2 == 0]
choices = [x + 100, x * 2]
default = x - 3
result = np.select(conditions, choices, default=default)
print(result)

# # Задача 7: Условная арифметика по двум массивам
# если значение из x чётное И значение из y > 35 → x*y, иначе x+y
x = np.arange(10, 21)
y = np.arange(30, 41)
mask = (x % 2 == 0) & (y > 35)
result = np.where(mask, x * y, x + y)
print(result)

# # Задача 8: Категоризация с np.select по трём условиям
# Категории: <13, чётные, остальные
x = np.arange(10, 21)
y = np.arange(1, 12)
conditions = [x < 13, x % 2 == 0]
choices = [x * y, x + y]
default = x - y
result = np.select(conditions, choices, default=default)
print(result)

# # Задача 9: Вложенный np.where (3 уровня)
m = np.arange(1, 12)
n = np.arange(30, 41)
result = np.where(m % 2 == 0, m * n, np.where(n < 35, m + n, n - m))
print(result)

# # Задача 10: Массивы 2D и фильтрация строк
# Создай матрицу 4x5 со значениями от 10 до 29 включительно
arr_2d = np.arange(10, 30).reshape(4, 5)
print("Вся матрица:")
print(arr_2d)
print("Вторая строка:")
print(arr_2d[1])
print("Третий столбец:")
print(arr_2d[:, 2])
print("Подматрица 2x2 из правого нижнего угла:")
print(arr_2d[2:, 3:])

# # Задача 11: Комбинация трёх массивов + логика
# Если a нечётное и b % 3 == 0 и c > 110 → (a + b) * c, если a > 10 → c - b, иначе → b + a
a = np.arange(1, 16)
b = np.arange(30, 45)
c = np.arange(100, 115)
mask = (a % 2 != 0) & (b % 3 == 0) & (c > 110)
result = np.where(mask, (a + b) * c, np.where(a > 10, c - b, b + a))
print(result)

# # Задача 12: Простая категоризация по значениям столбца
# Категоризация по возрасту
ages = np.array([15, 22, 35, 45, 60, 75])
conditions = [ages < 18, ages < 40, ages < 65]
choices = ["teen", "young_adult", "adult"]
categories = np.select(conditions, choices, default="senior")
print(categories)


# NumPy Feature Engineering Practice

"""
Набор задач, направленных на закрепление NumPy-приёмов, связанных с логикой,
условиями, масками и подготовкой признаков для анализа данных.
"""

# Задача 1: Таблица квадратов
# Создать массив от 1 до 16, преобразовать в 4x4 и получить массив квадратов
import numpy as np

a = np.arange(1, 17)
b = a.reshape(4, 4)
c = b ** 2

print("Исходный массив:")
print(a)
print("\nМассив 4x4:")
print(b)
print("\nКвадраты элементов:")
print(c)

# Задача 2: Ручное создание массива
# Создать массив вручную через np.array и извлечь второй столбец
arr = np.array([[5, 10, 15], [20, 25, 30], [35, 40, 45]])
double = arr * 2
col2 = arr[:, 1]

print("\nИсходный массив:")
print(arr)
print("\nУдвоенный массив:")
print(double)
print("\nВторой столбец:")
print(col2)

# Задача 3: Маска в квадрате
# Обнулить элементы в диапазоне (10, 20)
err = np.arange(1, 26).reshape(5, 5)
mask = (err > 10) & (err < 20)
result = np.where(mask, 0, err)

print("\nМассив:")
print(err)
print("\nМаска:")
print(mask)
print("\nРезультат:")
print(result)

# Задача 4: Формула дня
# Заменить чётные числа >20 на их удвоенные значения, остальные — на отрицательные
frr = np.arange(1, 37).reshape(6, 6)
mask = (frr % 2 == 0) & (frr > 20)
result = np.where(mask, frr * 2, -frr)

print("\nИсходный массив:")
print(frr)
print("\nРезультат:")
print(result)

# Задача 5: Условия внутри условий
# Применение вложенного np.where
grr = np.arange(10, 50).reshape(5, 8)
result = np.where(grr % 3 == 0, "Fizz", np.where(grr % 2 == 0, "Even", "Other"))

print("\nМассив:")
print(grr)
print("\nКатегории:")
print(result)

# Задача 6: Приоритет в select
# Три условия: кратность 5, чётность, <10
frr = np.arange(1, 37).reshape(6, 6)
conditions = (frr % 5 == 0, frr % 2 == 0, frr < 10)
choices = ("Five", "Even", "Small")
default = "Other"
result = np.select(conditions, choices, default=default)

print("\nМассив:")
print(frr)
print("\nКатегоризация:")
print(result)

# Задача 7: Финальный фильтр
# Условные метки + замена Keep на оригинальные значения
final = np.arange(1, 101).reshape(10, 10)
conditions = (
    final % 10 == 0,
    (final > 80) & (final % 2 == 0),
    (final >= 30) & (final <= 50) & (final % 3 == 0)
)
choices = ("x10", "HighEven", "Thirty+3")
labels = np.select(conditions, choices, default="Keep")
final_result = np.where(labels == "Keep", final, labels)

print("\nИсходный массив:")
print(final)
print("\nМетки:")
print(labels)
print("\nФинальный результат:")
print(final_result)

# Задача 8: Финансовый фильтр
# Комбинированная арифметика по условиям
bank = np.arange(150, 250).reshape(5, 20)
conditions = (
    (bank % 10 == 0) & (bank > 200),
    (bank % 7 == 0) & (bank < 180),
    (bank >= 190) & (bank <= 210)
)
choices = (bank * 0.7, bank * 1.5, 0)
result = np.select(conditions, choices, default=bank)

print("\nБанк массив:")
print(bank)
print("\nФинансовая трансформация:")
print(result)

# Задача 9: Чистая трансформация
# np.select + арифметика + маски
clean = np.arange(300, 400).reshape(10, 10)
conditions = (
    (clean % 11 == 0) & (clean < 350),
    (clean >= 360) & (clean <= 380) & (clean % 2 != 0),
    (clean % 5 == 0) & (clean > 390)
)
choices = (clean * 2, -1, clean - 100)
result = np.select(conditions, choices, default=clean)

print("\nТрансформация:")
print(result)

# Задача 10: Ручная метка
# Классификация оценок: High / Mid / Low
marks = np.array([[45, 78, 82], [60, 59, 71], [90, 33, 40]])
labels = np.where(marks >= 75, "High", np.where((marks >= 50) & (marks <= 74), "Mid", "Low"))

print("\nОценки:")
print(marks)
print("\nКатегории:")
print(labels)

# 🧠 Вывод

Этот проект подводит итог первому большому блоку по NumPy:  
одномерные и двумерные массивы, логика, условия, категоризация и маски.

Я научился:
- Работать с массивами разных размеров (1D, 2D)
- Применять условные конструкции (`np.where`, `np.select`)
- Использовать маски, диапазоны, фильтрацию
- Создавать структуру данных, пригодную для аналитики

📌 В следующих модулях я продолжу работу с NumPy — агрегациями, статистикой и функциями по осям.

"""
